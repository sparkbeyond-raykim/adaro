{
 "cells": [
  {
   "cell_type": "code",
   "execution_count": 1,
   "id": "3028a668",
   "metadata": {},
   "outputs": [],
   "source": [
    "import sparkbeyond._api2.classes as sb\n",
    "from sparkbeyond.predictionserver.api import PredictionServerClient\n",
    "import pickle\n",
    "import argparse\n",
    "import urllib3\n",
    "import json\n",
    "import logging\n",
    "import tqdm\n",
    "import os\n",
    "import pandas as pd\n",
    "urllib3.disable_warnings(urllib3.exceptions.InsecureRequestWarning)"
   ]
  },
  {
   "cell_type": "code",
   "execution_count": 2,
   "id": "b5cf076b",
   "metadata": {},
   "outputs": [
    {
     "name": "stderr",
     "output_type": "stream",
     "text": [
      "INFO:sparkbeyond.predictionserver.api.client:Connection with https://192.168.106.199/ - Established\n"
     ]
    }
   ],
   "source": [
    "with open('SB_Credential.json', 'rb') as b:\n",
    "    sb_config = json.load(b)\n",
    "\n",
    "dp_credential = sb_config['DP']\n",
    "client = sb.SparkBeyondClient(base_url = dp_credential['base_url'], api_key= dp_credential['api_key'],\n",
    "                              verify_ssl_certificate=False)\n",
    "\n",
    "eps_credential = sb_config['EPS']\n",
    "eps_client = PredictionServerClient(url=eps_credential['base_url'], refresh_token=eps_credential['api_key'], validate_ssl_certificate=False)"
   ]
  },
  {
   "cell_type": "code",
   "execution_count": 3,
   "id": "4e987013",
   "metadata": {},
   "outputs": [],
   "source": [
    "predict_df = pd.read_csv('preprocessed_data/nphr_03272023/train_unit1.csv')\n",
    "context_df = pd.read_csv('preprocessed_data/nphr_03272023/cont_boiler_unit1.csv')"
   ]
  },
  {
   "cell_type": "code",
   "execution_count": null,
   "id": "87d684a9",
   "metadata": {},
   "outputs": [],
   "source": []
  },
  {
   "cell_type": "code",
   "execution_count": 25,
   "id": "9c4ead22",
   "metadata": {},
   "outputs": [
    {
     "name": "stderr",
     "output_type": "stream",
     "text": [
      "INFO:sparkbeyond.predictionserver.api.client:Group NPHR_Unit1_nphr_03272023_rev_7_bucket_LB2_6.25_7.5 deleted successfully\n",
      "INFO:sparkbeyond.predictionserver.api.client:Group NPHR_Unit1_nphr_03272023_rev_7_bucket_LB3_7.5_8.75 deleted successfully\n",
      "INFO:sparkbeyond.predictionserver.api.client:Group NPHR_Unit1_nphr_03272023_rev_7_bucket_LB4_8.75_10 deleted successfully\n",
      "INFO:sparkbeyond.predictionserver.api.client:Group NPHR_Unit1_nphr_03272023_rev_7_bucket_LB5_10_12.5 deleted successfully\n",
      "INFO:sparkbeyond.predictionserver.api.client:Group NPHR_Unit1_nphr_03272023_rev_7_bucket_LB1_5_6.25 deleted successfully\n",
      "INFO:sparkbeyond.predictionserver.api.client:Group NPHR_Unit1_03272023_rev_1_bucket_LB1_5_6.25 deleted successfully\n",
      "INFO:sparkbeyond.predictionserver.api.client:Group NPHR_Unit1_03272023_rev_2_bucket_LB2_6.25_7.5 deleted successfully\n",
      "INFO:sparkbeyond.predictionserver.api.client:Group NPHR_Unit1_03272023_rev_3_bucket_LB3_7.5_8.75 deleted successfully\n",
      "INFO:sparkbeyond.predictionserver.api.client:Group NPHR_Unit1_03272023_rev_4_bucket_LB4_8.75_10 deleted successfully\n",
      "INFO:sparkbeyond.predictionserver.api.client:Group NPHR_Unit1_03272023_rev_5_bucket_LB5_10_12.5 deleted successfully\n",
      "INFO:sparkbeyond.predictionserver.api.client:Group NPHR_Unit1_03272023_rev_6_bucket_LB6_12.5_15 deleted successfully\n"
     ]
    }
   ],
   "source": [
    "for group in eps_client.get_groups():\n",
    "    eps_client.delete_group(group_name = group.name)"
   ]
  },
  {
   "cell_type": "code",
   "execution_count": 16,
   "id": "3efa5ec8",
   "metadata": {},
   "outputs": [],
   "source": [
    "group_name = 'NPHR_Unit1_03272023_rev_1_bucket_LB1_5_6.25'\n",
    "predict_df_subset = predict_df[(predict_df['load']>=5) & (predict_df['load']<6.25)]"
   ]
  },
  {
   "cell_type": "code",
   "execution_count": 17,
   "id": "e4fc2399",
   "metadata": {},
   "outputs": [],
   "source": [
    "predict_df_subset = predict_df_subset[['datetime', 'load']]"
   ]
  },
  {
   "cell_type": "code",
   "execution_count": 18,
   "id": "1062d4e4",
   "metadata": {},
   "outputs": [],
   "source": [
    "group_placeholder = eps_client.get_group(group_name)"
   ]
  },
  {
   "cell_type": "code",
   "execution_count": 19,
   "id": "336be473",
   "metadata": {
    "scrolled": true
   },
   "outputs": [
    {
     "data": {
      "text/plain": [
       "Index(['datetime (yy-MM-dd HH:mm:ss)',\n",
       "       'PCS05_APP1.C_TOTALAIRFLOW.OUT_TOTAL AIR FLOW CURRENT_ton_per_hr',\n",
       "       'PCS03_APP1.GAI10HBK01CP001_INLET BACKPASS PRESSURE_mbar',\n",
       "       'PCS01_APP1.GAI10HBK01CT031_BACKPASS TEMP AFTER LT SH_C',\n",
       "       'PCS01_APP1.GAI10HBK01CT021_BACKPASS TEMP AFTER INT SH_C',\n",
       "       'PCS03_APP1.GAI10LBA10CP002_MAIN STEAM PRESSURE_barg',\n",
       "       'PCS03_APP1.GAI10HBK01CP002_INLET BACKPASS PRESSURE_mbar',\n",
       "       'PCS01_APP1.GAI10HNA41CT001_ESP INLET TEMP_C',\n",
       "       'PCS03_APP1.GAI10LBA10CT001_TEMPRATURE AFTER FINAL SH_C',\n",
       "       'PCS01_APP1.GAI10LAE20CF001_DESH-1 SPRAY WATER FLOW_mmH2O',\n",
       "       'PCS01_APP1.GAI10HBK01CT042_BACKPASS TEMP AFTER ECO_C',\n",
       "       'PCS03_APP1.GAI10LBA10CT003_TEMPRATURE AFTER FINAL SH_C',\n",
       "       'PCS05_APP1.C_HLA25CF901.OUT_SECONDARY AIR FLOW CURRENT_ton_per_hr',\n",
       "       'PCS03_APP1.GAI10LBA10CT002_TEMPRATURE AFTER FINAL SH_C',\n",
       "       'PCS01_APP1.GAI10HAC90CT001_INLET FEED WATER TEMP_C',\n",
       "       'PCS03_APP1.GAI10LBA10CP003_MAIN STEAM PRESSURE_barg',\n",
       "       'PCS03_APP1.GAI10LBA10CP001_MAIN STEAM PRESSURE_barg',\n",
       "       'PCS03_APP1.GAI10HBK01CP003_INLET BACKPASS PRESSURE_mbar',\n",
       "       'PCS01_APP1.GAI10LAE30CF001_DESH-2 SPRAY WATER FLOW_mmH2O',\n",
       "       'PCS05_APP1.C_HLA15CF901.OUT_PRIMARY AIR FLOW CURRENT_ton_per_hr'],\n",
       "      dtype='object')"
      ]
     },
     "execution_count": 19,
     "metadata": {},
     "output_type": "execute_result"
    }
   ],
   "source": [
    "group_placeholder.context_inputs[0].columns"
   ]
  },
  {
   "cell_type": "code",
   "execution_count": 21,
   "id": "9c305a02",
   "metadata": {
    "scrolled": true
   },
   "outputs": [
    {
     "name": "stderr",
     "output_type": "stream",
     "text": [
      "INFO:sparkbeyond.predictionserver.api.client:Sending Predict to https://192.168.106.199/\n",
      "INFO:sparkbeyond.predictionserver.api.client:https://192.168.106.199/predbox/groups/predict?strictInputValidation=false&qualityReportEnabled=true&contextMatchingReport=true\n",
      "INFO:sparkbeyond.predictionserver.api.client:Request completed successfully\n"
     ]
    }
   ],
   "source": [
    "predict_results = eps_client.predict_with_quality_report(input_df=predict_df,\n",
    "                                    context_input_df=context_df,\n",
    "                                    model=group_name,\n",
    "                                    include_enriched=False,\n",
    "                                    include_originals=False,\n",
    "                                    strict_input_validation=False,\n",
    "                                    context_matching_report=True)\n"
   ]
  },
  {
   "cell_type": "code",
   "execution_count": null,
   "id": "59b59d41",
   "metadata": {},
   "outputs": [],
   "source": [
    "# EMA\n",
    "rolling_mean = load.set_index('datetime')['load'].ewm(span=rolling_window).mean().shift(12).rename(f'ma_t={rolling_window}')"
   ]
  }
 ],
 "metadata": {
  "kernelspec": {
   "display_name": "Python 3 (ipykernel)",
   "language": "python",
   "name": "python3"
  },
  "language_info": {
   "codemirror_mode": {
    "name": "ipython",
    "version": 3
   },
   "file_extension": ".py",
   "mimetype": "text/x-python",
   "name": "python",
   "nbconvert_exporter": "python",
   "pygments_lexer": "ipython3",
   "version": "3.8.13"
  }
 },
 "nbformat": 4,
 "nbformat_minor": 5
}
